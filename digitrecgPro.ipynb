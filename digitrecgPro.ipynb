{
 "metadata": {
  "language_info": {
   "codemirror_mode": {
    "name": "ipython",
    "version": 3
   },
   "file_extension": ".py",
   "mimetype": "text/x-python",
   "name": "python",
   "nbconvert_exporter": "python",
   "pygments_lexer": "ipython3",
   "version": "3.7.9"
  },
  "orig_nbformat": 4,
  "kernelspec": {
   "name": "python3",
   "display_name": "Python 3.7.9 64-bit"
  },
  "interpreter": {
   "hash": "ed15115a71b9385326b10bcb2a2241192ab30f0235abc029baf19d74dfc3d772"
  }
 },
 "nbformat": 4,
 "nbformat_minor": 2,
 "cells": [
  {
   "cell_type": "code",
   "execution_count": 1,
   "metadata": {},
   "outputs": [],
   "source": [
    "import tensorflow as tf \n",
    "from tensorflow import keras \n",
    "import matplotlib.pyplot as plt \n",
    "import numpy as np \n",
    "%matplotlib inline \n",
    "(X_train,Y_train),(X_test,Y_test) = keras.datasets.mnist.load_data()"
   ]
  },
  {
   "cell_type": "code",
   "execution_count": 2,
   "metadata": {},
   "outputs": [],
   "source": [
    "   X_flat_train =  X_train.reshape(len(X_train),28*28) \n",
    "   X_flat_test = X_test.reshape(len(X_test),28*28)\n",
    "   X_flat_test.shape\n",
    "   #scaling test data \n",
    "   from sklearn.preprocessing import MinMaxScaler\n",
    "   scaler =  MinMaxScaler()\n",
    "   X_flat_test= scaler.fit_transform(X_flat_test)\n",
    "   X_flat_train = scaler.fit_transform(X_flat_train)"
   ]
  },
  {
   "cell_type": "code",
   "execution_count": 3,
   "metadata": {},
   "outputs": [
    {
     "output_type": "stream",
     "name": "stdout",
     "text": [
      "Epoch 1/5\n",
      "1875/1875 [==============================] - 4s 2ms/step - loss: 0.4677 - accuracy: 0.8767\n",
      "Epoch 2/5\n",
      "1875/1875 [==============================] - 4s 2ms/step - loss: 0.3037 - accuracy: 0.9159\n",
      "Epoch 3/5\n",
      "1875/1875 [==============================] - 4s 2ms/step - loss: 0.2832 - accuracy: 0.9206\n",
      "Epoch 4/5\n",
      "1875/1875 [==============================] - 5s 3ms/step - loss: 0.2732 - accuracy: 0.9241\n",
      "Epoch 5/5\n",
      "1875/1875 [==============================] - 4s 2ms/step - loss: 0.2670 - accuracy: 0.9250\n"
     ]
    },
    {
     "output_type": "execute_result",
     "data": {
      "text/plain": [
       "<tensorflow.python.keras.callbacks.History at 0x114c8262308>"
      ]
     },
     "metadata": {},
     "execution_count": 3
    }
   ],
   "source": [
    "model = keras.Sequential([   #sequential  =  stack of layers\n",
    "    #keras.layers.Dense(125,input_shape=(784,),activation='relu'),  #.Dense(10,input_shape=(784) basically connects 784 neuron to each of the 10 output neurons\n",
    "    keras.layers.Dense(10,input_shape=(784,),activation='sigmoid')\n",
    "])\n",
    "model.compile(optimizer = 'adam',\n",
    "loss = 'sparse_categorical_crossentropy',\n",
    "metrics  = ['accuracy']\n",
    ")\n",
    "model.fit(X_flat_train,Y_train,epochs=5)"
   ]
  },
  {
   "cell_type": "code",
   "execution_count": 4,
   "metadata": {},
   "outputs": [
    {
     "output_type": "stream",
     "name": "stdout",
     "text": [
      "313/313 [==============================] - 1s 2ms/step - loss: 0.2677 - accuracy: 0.9259\n"
     ]
    },
    {
     "output_type": "execute_result",
     "data": {
      "text/plain": [
       "[0.2677119970321655, 0.9258999824523926]"
      ]
     },
     "metadata": {},
     "execution_count": 4
    }
   ],
   "source": [
    "model.evaluate(X_flat_test,Y_test)"
   ]
  },
  {
   "cell_type": "code",
   "execution_count": null,
   "metadata": {},
   "outputs": [],
   "source": [
    "np.argmax(model.predict(img2))"
   ]
  },
  {
   "cell_type": "code",
   "execution_count": 11,
   "metadata": {},
   "outputs": [
    {
     "output_type": "execute_result",
     "data": {
      "text/plain": [
       "'import cv2 as cv \\nvid = cv.VideoCapture(0)\\ni=2\\n#vid.set(cv.CAP_PROP_FRAME_WIDTH, 250)\\n#vid.set(cv.CAP_PROP_FRAME_HEIGHT, 200)\\nwhile True :\\n    check,frame =  vid.read()\\n    cv.imshow(\"press x to exit\",frame)\\n    k= cv.waitKey(1)\\n    img = cv.resize(frame,(28,28))\\n   \\n   \\n    if k==ord(\\'x\\'):\\n        break\\nvid.release()\\ncv.destroyAllWindows()\\nimg2 =  cv.cvtColor(img,cv.COLOR_BGR2GRAY)\\ncv.imshow(\" d\",img2)\\ncv.waitKey(0)\\nimg2 = img2.reshape(28*28)\\nprint(np.argmax(model.predict(img2)))\\nimg2.size\\n'"
      ]
     },
     "metadata": {},
     "execution_count": 11
    }
   ],
   "source": [
    "'''import cv2 as cv \n",
    "vid = cv.VideoCapture(0)\n",
    "i=2\n",
    "#vid.set(cv.CAP_PROP_FRAME_WIDTH, 250)\n",
    "#vid.set(cv.CAP_PROP_FRAME_HEIGHT, 200)\n",
    "while True :\n",
    "    check,frame =  vid.read()\n",
    "    cv.imshow(\"press x to exit\",frame)\n",
    "    k= cv.waitKey(1)\n",
    "    img = cv.resize(frame,(28,28))\n",
    "   \n",
    "   \n",
    "    if k==ord('x'):\n",
    "        break\n",
    "vid.release()\n",
    "cv.destroyAllWindows()\n",
    "img2 =  cv.cvtColor(img,cv.COLOR_BGR2GRAY)\n",
    "cv.imshow(\" d\",img2)\n",
    "cv.waitKey(0)\n",
    "img2 = img2.reshape(28*28)\n",
    "print(np.argmax(model.predict(img2)))\n",
    "img2.size\n",
    "'''"
   ]
  },
  {
   "cell_type": "code",
   "execution_count": 12,
   "metadata": {},
   "outputs": [
    {
     "output_type": "execute_result",
     "data": {
      "text/plain": [
       "'img3 =  cv.cvtColor(img3,cv.COLOR_BGR2GRAY)\\nimg3 =cv.resize(img3,(28,28))\\nimg3.reshape(28*28) \\nimg3.size'"
      ]
     },
     "metadata": {},
     "execution_count": 12
    }
   ],
   "source": [
    "import cv2 as cv\n",
    "img3  =  cv.imread('five.png')\n",
    "img3 =  cv.cvtColor(img3,cv.COLOR_BGR2GRAY)\n",
    "plt.show()\n",
    "cv.waitKey(0)\n",
    "cv.destroyAllWindows()\n",
    "'''img3 =  cv.cvtColor(img3,cv.COLOR_BGR2GRAY)\n",
    "img3 =cv.resize(img3,(28,28))\n",
    "img3.reshape(28*28) \n",
    "img3.size'''"
   ]
  },
  {
   "cell_type": "code",
   "execution_count": null,
   "metadata": {},
   "outputs": [],
   "source": []
  }
 ]
}